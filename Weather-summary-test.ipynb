{
 "cells": [
  {
   "cell_type": "markdown",
   "metadata": {},
   "source": [
    "# Weather-summary-test\n",
    "\n",
    "Test project for weather_summary.py module"
   ]
  },
  {
   "cell_type": "markdown",
   "metadata": {},
   "source": [
    "# Environment"
   ]
  },
  {
   "cell_type": "markdown",
   "metadata": {},
   "source": [
    "## Library Imports"
   ]
  },
  {
   "cell_type": "code",
   "execution_count": null,
   "metadata": {},
   "outputs": [],
   "source": [
    "import pandas as pd\n",
    "import numpy as np\n",
    "from pathlib import Path\n",
    "from datetime import datetime\n",
    "import re\n",
    "import json\n",
    "import time\n",
    "\n",
    "import us"
   ]
  },
  {
   "cell_type": "markdown",
   "metadata": {},
   "source": [
    "## Local Imports"
   ]
  },
  {
   "cell_type": "code",
   "execution_count": null,
   "metadata": {},
   "outputs": [],
   "source": [
    "import xutilities\n",
    "import weather_summary"
   ]
  },
  {
   "cell_type": "markdown",
   "metadata": {},
   "source": [
    "## File Paths"
   ]
  },
  {
   "cell_type": "code",
   "execution_count": null,
   "metadata": {},
   "outputs": [],
   "source": [
    "# https://medium.com/@rrfd/cookiecutter-data-science-organize-your-projects-atom-and-jupyter-2be7862f487e\n",
    "# Base Path\n",
    "base_path = Path.cwd()\n",
    "\n",
    "# Data paths\n",
    "data_path = base_path / 'data'\n",
    "raw_data_path = data_path / 'raw'\n",
    "interim_data_path = data_path / 'interim'\n",
    "processed_data_path = data_path / 'processed'\n",
    "external_data_path = data_path / 'external'\n",
    "\n",
    "# Reports paths\n",
    "reports_path = base_path / 'reports'\n",
    "figures_path = reports_path / 'figures'\n",
    "\n",
    "# Input paths\n",
    "tests_data_path = base_path / 'tests'\n",
    "\n",
    "# Outputs paths\n",
    "# summary_weather_report_path = reports_path\n",
    "\n",
    "# Credentials\n",
    "credentials_openweather_path = Path.home() / 'credentials-openweather.yml'"
   ]
  },
  {
   "cell_type": "markdown",
   "metadata": {},
   "source": [
    "## Constants and Globals"
   ]
  },
  {
   "cell_type": "code",
   "execution_count": null,
   "metadata": {},
   "outputs": [],
   "source": [
    "# Constants and Globals\n",
    "LAKE_CUNNINGHAM_LOCATION = (37.335471, -121.806204)\n",
    "LAKE_CUNNINGHAM_LATITUDE, LAKE_CUNNINGHAM_LONGITUDE = LAKE_CUNNINGHAM_LOCATION"
   ]
  },
  {
   "cell_type": "markdown",
   "metadata": {},
   "source": [
    "# Code"
   ]
  },
  {
   "cell_type": "code",
   "execution_count": null,
   "metadata": {},
   "outputs": [],
   "source": [
    "def generate_sample_weather_summaries(city_list: pd.DataFrame):\n",
    "    # city_list has columns ['City', 'State', 'Coordinates']\n",
    "    for idx, row in city_list.iterrows():\n",
    "    \n",
    "        reporting_location = tuple([float(cc) for cc in row.Coordinates.split(',')])\n",
    "\n",
    "        state_abbr = us_name_to_abbr.get(row.State, row.State)\n",
    "        city_state = f'{row.City},{state_abbr}'\n",
    "        print(f'{idx:04d} {city_state:<40}{row.Coordinates:>20}')\n",
    "\n",
    "        summary = weather_summary.create_weather_summary(reporting_location, openweather_api_key)\n",
    "        summary_ts = datetime.now().strftime('%Y-%m-%d_%H-%M-%S')\n",
    "        summary_weather_report_path = reports_path / f'WeatherSummary-{state_abbr}-{row.City}-{summary_ts}.txt'\n",
    "        with open(summary_weather_report_path, 'w') as fp:\n",
    "            _ = fp.write(summary)\n",
    "\n",
    "        # Rate limit\n",
    "        time.sleep(1)"
   ]
  },
  {
   "cell_type": "markdown",
   "metadata": {},
   "source": [
    "# Main"
   ]
  },
  {
   "cell_type": "code",
   "execution_count": null,
   "metadata": {},
   "outputs": [],
   "source": [
    "if __name__ == '__main__':\n",
    "    \n",
    "    # Initializations\n",
    "    credentials = xutilities.load_credentials(credentials_openweather_path)['credentials']\n",
    "    openweather_api_key = credentials['api_key']\n",
    "\n",
    "    us_name_to_abbr = us.states.mapping('name', 'abbr')\n",
    "    \n",
    "    summary = weather_summary.create_weather_summary(LAKE_CUNNINGHAM_LOCATION, openweather_api_key)\n",
    "    print(summary)\n",
    "    \n",
    "#     generate_sample_weather_summaries(full_city_list.sample(n = 10, replace = False, axis = 0))"
   ]
  },
  {
   "cell_type": "markdown",
   "metadata": {},
   "source": [
    "# Test"
   ]
  },
  {
   "cell_type": "markdown",
   "metadata": {},
   "source": [
    "For the free tier of service, these limits apply:\n",
    "\n",
    "- 60 calls/minute\n",
    "- Historical weather 5 days (1,000 API calls per day by using One Call API) \n",
    "\n",
    "Given that, we rate limit to 1 call/sec and only look at 25 cities"
   ]
  },
  {
   "cell_type": "markdown",
   "metadata": {},
   "source": [
    "## Test Data"
   ]
  },
  {
   "cell_type": "code",
   "execution_count": null,
   "metadata": {},
   "outputs": [],
   "source": [
    "# 1000 Largest US Cities\n",
    "# https://public.opendatasoft.com/explore/dataset/1000-largest-us-cities-by-population-with-geographic-coordinates/table/?sort=-rank\n",
    "test_data_path = tests_data_path / '1000-largest-us-cities-by-population-with-geographic-coordinates.csv'\n",
    "test_data = pd.read_csv(test_data_path, sep = ';', index_col=False)\n",
    "\n",
    "# Abbreviations\n",
    "us_states_data_path = tests_data_path / 'us_states.csv'\n",
    "us_states = pd.read_csv(us_states_data_path, sep = ';', index_col=False)\n",
    "\n",
    "# https://github.com/jasperdebie/VisInfo/blob/master/us-state-capitals.csv\n",
    "us_state_capitals_data_path = tests_data_path / 'us-state-capitals.csv'\n",
    "us_state_capitals = pd.read_csv(us_state_capitals_data_path, sep = ',', index_col=False)\n",
    "us_state_capitals.columns = ['State', 'City', 'latitude', 'longitude']\n",
    "# Atlanta, GA and Hartford, CT both have '<br>' on the end - why?\n",
    "us_state_capitals.City = us_state_capitals.City.apply(lambda s: s.replace('<br>', ''))\n",
    "\n",
    "us_state_capitals['Coordinates'] = us_state_capitals.apply(lambda row: f'{row[\"latitude\"]},{row[\"longitude\"]}', \n",
    "                                                           axis=1)\n",
    "\n",
    "# Full city list (capitals + 1000 largest)\n",
    "cols = ['City', 'State', 'Coordinates']\n",
    "full_city_list = pd.concat([us_state_capitals[cols], test_data[cols]], ignore_index=True)\n",
    "# display(full_city_list.head())\n",
    "# display(full_city_list.tail())"
   ]
  },
  {
   "cell_type": "markdown",
   "metadata": {},
   "source": [
    "## Test Code"
   ]
  },
  {
   "cell_type": "code",
   "execution_count": null,
   "metadata": {},
   "outputs": [],
   "source": [
    "full_city_list.sample(n = 10, replace = False, axis = 0)"
   ]
  },
  {
   "cell_type": "code",
   "execution_count": null,
   "metadata": {},
   "outputs": [],
   "source": [
    "generate_sample_weather_summaries(full_city_list.sample(n = 5, replace = False, axis = 0))"
   ]
  },
  {
   "cell_type": "markdown",
   "metadata": {},
   "source": [
    "# OpenWeather City List"
   ]
  },
  {
   "cell_type": "code",
   "execution_count": null,
   "metadata": {},
   "outputs": [],
   "source": [
    "open_weather_city_list = pd.read_json(base_path / 'city.list.json')\n",
    "open_weather_city_list.head()"
   ]
  },
  {
   "cell_type": "code",
   "execution_count": null,
   "metadata": {},
   "outputs": [],
   "source": [
    "s_open_weather_city_list = open_weather_city_list.sort_values(['country', 'state', 'name'])"
   ]
  },
  {
   "cell_type": "code",
   "execution_count": null,
   "metadata": {},
   "outputs": [],
   "source": [
    "s_open_weather_city_list[s_open_weather_city_list.country=='US']"
   ]
  },
  {
   "cell_type": "markdown",
   "metadata": {},
   "source": [
    "# Marysville, WA"
   ]
  },
  {
   "cell_type": "code",
   "execution_count": null,
   "metadata": {},
   "outputs": [],
   "source": [
    "# City\tRank\tState\tGrowth From 2000 to 2013\tPopulation\tCoordinates\n",
    "# Marysville\t552\tWashington\t115.7\t63269\t48.0517637,-122.1770818"
   ]
  },
  {
   "cell_type": "code",
   "execution_count": null,
   "metadata": {},
   "outputs": [],
   "source": [
    "MARYSVILLE_WA_LOCATION = (48.0517637,-122.1770818)\n",
    "\n",
    "with open(tests_data_path / 'Marysville-historical-results.json', 'r') as fp:\n",
    "    historical_json = json.load(fp)\n",
    "    mw_historical = pd.json_normalize(historical_json)\n",
    "\n",
    "with open(tests_data_path / 'Marysville-results.json', 'r') as fp:\n",
    "    results_json = json.load(fp)\n",
    "    mwa_results = pd.json_normalize(results_json)"
   ]
  },
  {
   "cell_type": "code",
   "execution_count": null,
   "metadata": {},
   "outputs": [],
   "source": [
    "pd.json_normalize(historical_json)"
   ]
  },
  {
   "cell_type": "code",
   "execution_count": null,
   "metadata": {},
   "outputs": [],
   "source": [
    "today = datetime.now().replace(hour=0, minute=0, second=0, microsecond=0)\n",
    "utoday = datetime.timestamp(today)\n",
    "reporting_location = MARYSVILLE_WA_LOCATION\n",
    "\n",
    "results, current, daily, hourly = weather_summary.transform_weather_results(results_json)\n",
    "hist_results, actual_current, actual_daily, actual_hourly = weather_summary.transform_weather_results(historical_json)\n",
    "\n",
    "summary = weather_summary.summary_weather_report(results, daily, current, reporting_location, actual_hourly)\n",
    "print(summary)"
   ]
  },
  {
   "cell_type": "code",
   "execution_count": null,
   "metadata": {},
   "outputs": [],
   "source": []
  }
 ],
 "metadata": {
  "kernelspec": {
   "display_name": "py37",
   "language": "python",
   "name": "py37"
  },
  "language_info": {
   "codemirror_mode": {
    "name": "ipython",
    "version": 3
   },
   "file_extension": ".py",
   "mimetype": "text/x-python",
   "name": "python",
   "nbconvert_exporter": "python",
   "pygments_lexer": "ipython3",
   "version": "3.7.7"
  },
  "toc": {
   "base_numbering": 1,
   "nav_menu": {},
   "number_sections": true,
   "sideBar": true,
   "skip_h1_title": false,
   "title_cell": "Table of Contents",
   "title_sidebar": "Contents",
   "toc_cell": false,
   "toc_position": {},
   "toc_section_display": true,
   "toc_window_display": false
  }
 },
 "nbformat": 4,
 "nbformat_minor": 2
}
