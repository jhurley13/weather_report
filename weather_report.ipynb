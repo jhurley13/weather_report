{
 "cells": [
  {
   "cell_type": "markdown",
   "metadata": {},
   "source": [
    "# weather_report"
   ]
  },
  {
   "cell_type": "markdown",
   "metadata": {},
   "source": [
    "# Description\n",
    "\n",
    "Produce a basic weather report for the day for a given geolocation. Designed to be used as part of the \"Automating the Christmas Bird Count\" project."
   ]
  },
  {
   "cell_type": "markdown",
   "metadata": {},
   "source": [
    "# Environment"
   ]
  },
  {
   "cell_type": "markdown",
   "metadata": {},
   "source": [
    "## Library Imports"
   ]
  },
  {
   "cell_type": "code",
   "execution_count": null,
   "metadata": {},
   "outputs": [],
   "source": [
    "import pandas as pd\n",
    "import numpy as np\n",
    "from pathlib import Path\n",
    "from datetime import tzinfo, timedelta, datetime, date"
   ]
  },
  {
   "cell_type": "markdown",
   "metadata": {},
   "source": [
    "## Jupyter-specific Imports and Settings"
   ]
  },
  {
   "cell_type": "code",
   "execution_count": null,
   "metadata": {},
   "outputs": [],
   "source": [
    "# Data manipulation\n",
    "# Options for pandas\n",
    "pd.options.display.max_columns = 50\n",
    "pd.options.display.max_rows = 30\n",
    "\n",
    "# Display all cell outputs\n",
    "from IPython.core.interactiveshell import InteractiveShell\n",
    "InteractiveShell.ast_node_interactivity = 'all'\n",
    "\n",
    "from IPython import get_ipython\n",
    "ipython = get_ipython()\n",
    "\n",
    "# autoreload extension\n",
    "if 'autoreload' not in ipython.extension_manager.loaded:\n",
    "    get_ipython().run_line_magic('load_ext', 'autoreload')\n",
    "\n",
    "get_ipython().run_line_magic('autoreload', '2')"
   ]
  },
  {
   "cell_type": "markdown",
   "metadata": {},
   "source": [
    "## Local Imports"
   ]
  },
  {
   "cell_type": "code",
   "execution_count": null,
   "metadata": {},
   "outputs": [],
   "source": [
    "import xutilities\n",
    "import weather_summary"
   ]
  },
  {
   "cell_type": "markdown",
   "metadata": {},
   "source": [
    "## File Paths"
   ]
  },
  {
   "cell_type": "code",
   "execution_count": null,
   "metadata": {},
   "outputs": [],
   "source": [
    "# https://medium.com/@rrfd/cookiecutter-data-science-organize-your-projects-atom-and-jupyter-2be7862f487e\n",
    "# Base Path\n",
    "base_path = Path.cwd()\n",
    "\n",
    "# Data paths\n",
    "data_path = base_path / 'data'\n",
    "raw_data_path = data_path / 'raw'\n",
    "interim_data_path = data_path / 'interim'\n",
    "processed_data_path = data_path / 'processed'\n",
    "external_data_path = data_path / 'external'\n",
    "\n",
    "# Reports paths\n",
    "reports_path = base_path / 'reports'\n",
    "figures_path = reports_path / 'figures'\n",
    "\n",
    "# Input paths\n",
    "\n",
    "# Outputs paths\n",
    "tests_path = base_path / 'tests'\n",
    "# summary_weather_report_path = reports_path\n",
    "\n",
    "# Credentials\n",
    "credentials_openweather_path = Path.home() / 'credentials-openweather.yml'"
   ]
  },
  {
   "cell_type": "markdown",
   "metadata": {},
   "source": [
    "## Constants and Globals"
   ]
  },
  {
   "cell_type": "code",
   "execution_count": null,
   "metadata": {},
   "outputs": [],
   "source": [
    "# Constants and Globals\n",
    "KM_PER_MILE = 1.60934\n",
    "MILES_PER_KILOMETER = 0.62137119\n",
    "\n",
    "LAKE_CUNNINGHAM_LOCATION = (37.335471, -121.806204)\n",
    "LAKE_CUNNINGHAM_LATITUDE, LAKE_CUNNINGHAM_LONGITUDE = LAKE_CUNNINGHAM_LOCATION\n",
    "\n",
    "CAPA_LOCATION = (37.41003, -122.16)\n",
    "CBC_CASJ_LOCATION = (37.40, -121.88)"
   ]
  },
  {
   "cell_type": "markdown",
   "metadata": {},
   "source": [
    "# Code"
   ]
  },
  {
   "cell_type": "code",
   "execution_count": null,
   "metadata": {},
   "outputs": [],
   "source": [
    "def create_project_paths():\n",
    "    default_mode = 0o755\n",
    "    data_path.mkdir(mode=default_mode, parents=False, exist_ok=True)\n",
    "    raw_data_path.mkdir(mode=default_mode, parents=False, exist_ok=True)\n",
    "    interim_data_path.mkdir(mode=default_mode, parents=False, exist_ok=True)\n",
    "    processed_data_path.mkdir(mode=default_mode, parents=False, exist_ok=True)\n",
    "    external_data_path.mkdir(mode=default_mode, parents=False, exist_ok=True)\n",
    "    reports_path.mkdir(mode=default_mode, parents=False, exist_ok=True)\n",
    "    figures_path.mkdir(mode=default_mode, parents=False, exist_ok=True)"
   ]
  },
  {
   "cell_type": "markdown",
   "metadata": {},
   "source": [
    "## Initialization"
   ]
  },
  {
   "cell_type": "code",
   "execution_count": null,
   "metadata": {},
   "outputs": [],
   "source": [
    "# Initializations\n",
    "credentials = xutilities.load_credentials(credentials_openweather_path)['credentials']\n",
    "openweather_api_key = credentials['api_key']"
   ]
  },
  {
   "cell_type": "markdown",
   "metadata": {},
   "source": [
    "# Main"
   ]
  },
  {
   "cell_type": "code",
   "execution_count": null,
   "metadata": {},
   "outputs": [],
   "source": [
    "if __name__ == '__main__':    \n",
    "    create_project_paths()\n",
    "    \n",
    "    reporting_location = CBC_CASJ_LOCATION\n",
    "    summary = weather_summary.create_weather_summary(reporting_location, openweather_api_key)\n",
    "    summary_ts = datetime.now().strftime('%Y-%m-%d_%H-%M-%S')\n",
    "    summary_weather_report_path = reports_path / f'WeatherSummary-{summary_ts}.txt'\n",
    "    with open(summary_weather_report_path, 'w') as fp:\n",
    "        _ = fp.write(summary)\n",
    "    print(summary)\n",
    "    \n",
    "    print('\\nDone')"
   ]
  },
  {
   "cell_type": "markdown",
   "metadata": {},
   "source": [
    "# Test"
   ]
  },
  {
   "cell_type": "code",
   "execution_count": null,
   "metadata": {},
   "outputs": [],
   "source": []
  }
 ],
 "metadata": {
  "kernelspec": {
   "display_name": "py37",
   "language": "python",
   "name": "py37"
  },
  "language_info": {
   "codemirror_mode": {
    "name": "ipython",
    "version": 3
   },
   "file_extension": ".py",
   "mimetype": "text/x-python",
   "name": "python",
   "nbconvert_exporter": "python",
   "pygments_lexer": "ipython3",
   "version": "3.7.7"
  },
  "toc": {
   "base_numbering": 1,
   "nav_menu": {},
   "number_sections": true,
   "sideBar": true,
   "skip_h1_title": false,
   "title_cell": "Table of Contents",
   "title_sidebar": "Contents",
   "toc_cell": false,
   "toc_position": {},
   "toc_section_display": true,
   "toc_window_display": false
  }
 },
 "nbformat": 4,
 "nbformat_minor": 2
}
